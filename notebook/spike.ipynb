{
 "cells": [
  {
   "cell_type": "code",
   "execution_count": 23,
   "metadata": {},
   "outputs": [],
   "source": [
    "%reload_ext autoreload\n",
    "%autoreload 2\n",
    "%matplotlib inline\n",
    "\n",
    "from IPython.core.display import display\n",
    "\n",
    "import os, sys\n",
    "SRC_PATH = os.path.abspath(\"../src\")\n",
    "if SRC_PATH not in sys.path:\n",
    "    sys.path.append(SRC_PATH)\n",
    "\n",
    "import numpy as np\n"
   ]
  },
  {
   "cell_type": "code",
   "execution_count": 24,
   "metadata": {},
   "outputs": [],
   "source": [
    "a = np.zeros([2,8,8], dtype=np.float)"
   ]
  },
  {
   "cell_type": "code",
   "execution_count": 25,
   "metadata": {},
   "outputs": [
    {
     "data": {
      "text/plain": [
       "(2, 8, 8)"
      ]
     },
     "execution_count": 25,
     "metadata": {},
     "output_type": "execute_result"
    }
   ],
   "source": [
    "a.reshape((1,2,8,8))[0].shape"
   ]
  },
  {
   "cell_type": "code",
   "execution_count": 28,
   "metadata": {},
   "outputs": [],
   "source": [
    "from reversi_zero.env.reversi_env import ReversiEnv, Player"
   ]
  },
  {
   "cell_type": "code",
   "execution_count": 29,
   "metadata": {},
   "outputs": [],
   "source": [
    "env = ReversiEnv().reset()\n"
   ]
  },
  {
   "cell_type": "code",
   "execution_count": 31,
   "metadata": {},
   "outputs": [
    {
     "data": {
      "text/plain": [
       "False"
      ]
     },
     "execution_count": 31,
     "metadata": {},
     "output_type": "execute_result"
    }
   ],
   "source": [
    "env.next_player == Player.white"
   ]
  },
  {
   "cell_type": "code",
   "execution_count": 32,
   "metadata": {},
   "outputs": [
    {
     "data": {
      "text/plain": [
       "array([ 0.,  0.,  0.,  0.,  0.,  0.,  0.,  0.])"
      ]
     },
     "execution_count": 32,
     "metadata": {},
     "output_type": "execute_result"
    }
   ],
   "source": [
    "np.zeros((8,))"
   ]
  },
  {
   "cell_type": "code",
   "execution_count": 68,
   "metadata": {},
   "outputs": [],
   "source": [
    "mask = 0xfedcba9876543210\n",
    "z = np.array(range(64))"
   ]
  },
  {
   "cell_type": "code",
   "execution_count": 89,
   "metadata": {},
   "outputs": [],
   "source": [
    "from timeit import timeit\n",
    "\n",
    "#mask_array = np.array([(mask >> (i*4)) & 0xFF for i in range(16)], dtype=np.uint8)\n",
    "#np.unpackbits(mask_array).reshape((-1, 8))\n",
    "\n",
    "def impl1():\n",
    "    return np.array(list(reversed(bin(mask)[2:])), dtype=int) * z\n",
    "\n",
    "impl1"
   ]
  },
  {
   "cell_type": "code",
   "execution_count": 93,
   "metadata": {},
   "outputs": [
    {
     "data": {
      "text/plain": [
       "0.1212078370153904"
      ]
     },
     "execution_count": 93,
     "metadata": {},
     "output_type": "execute_result"
    }
   ],
   "source": [
    "timeit(\"impl1()\", number=10000, globals=locals())"
   ]
  },
  {
   "cell_type": "code",
   "execution_count": 112,
   "metadata": {},
   "outputs": [
    {
     "data": {
      "text/plain": [
       "0.03786197898443788"
      ]
     },
     "execution_count": 112,
     "metadata": {},
     "output_type": "execute_result"
    }
   ],
   "source": [
    "def bit_to_array(x, size):\n",
    "    \"\"\"bit_to_array(0b0010, 4) -> array([0, 1, 0, 0])\"\"\"\n",
    "    return np.array(list(reversed( ((\"0\" * size) + bin(x)[2:])[-size:])), dtype=np.uint8)\n",
    "\n",
    "timeit(\"bit_to_array(0b10010, 8)\", number=10000, globals=locals())"
   ]
  },
  {
   "cell_type": "code",
   "execution_count": 111,
   "metadata": {},
   "outputs": [
    {
     "data": {
      "text/plain": [
       "array([0, 1, 0, 0, 1, 0, 0, 0], dtype=uint8)"
      ]
     },
     "execution_count": 111,
     "metadata": {},
     "output_type": "execute_result"
    }
   ],
   "source": [
    "bit_to_array(0b10010, 8)"
   ]
  },
  {
   "cell_type": "code",
   "execution_count": 113,
   "metadata": {},
   "outputs": [
    {
     "data": {
      "text/plain": [
       "1.4142135623730951"
      ]
     },
     "execution_count": 113,
     "metadata": {},
     "output_type": "execute_result"
    }
   ],
   "source": [
    "np.sqrt(2)"
   ]
  },
  {
   "cell_type": "code",
   "execution_count": 116,
   "metadata": {},
   "outputs": [
    {
     "data": {
      "text/plain": [
       "(2, 8, 8)"
      ]
     },
     "execution_count": 116,
     "metadata": {},
     "output_type": "execute_result"
    }
   ],
   "source": [
    "x1 = np.arange(64).reshape((8,8))\n",
    "np.array([x1, x1]).shape"
   ]
  },
  {
   "cell_type": "code",
   "execution_count": 118,
   "metadata": {},
   "outputs": [],
   "source": [
    "from collections import namedtuple\n",
    "CounterKey = namedtuple(\"CounterKey\", \"black white next_player\")\n"
   ]
  },
  {
   "cell_type": "code",
   "execution_count": 120,
   "metadata": {},
   "outputs": [],
   "source": [
    "ck = CounterKey(1, 2, 3)"
   ]
  },
  {
   "cell_type": "code",
   "execution_count": 136,
   "metadata": {},
   "outputs": [
    {
     "data": {
      "text/plain": [
       "array([  6.65384462e-12,   7.80051285e-21,   5.36088165e-31,\n",
       "         7.15224127e-13,   3.17942611e-01,   3.28435705e-03,\n",
       "         8.31343372e-35,   2.73462521e-05,   1.78750966e-08,\n",
       "         3.04666134e-14,   1.68107575e-72,   9.56413096e-08,\n",
       "         4.15880118e-30,   2.32322113e-01,   2.33826245e-39,\n",
       "         1.77445799e-20,   2.40155219e-05,   5.21458945e-17,\n",
       "         9.69306405e-09,   2.49421812e-37,   1.39887306e-23,\n",
       "         1.16284596e-15,   4.64635248e-03,   7.65064199e-10,\n",
       "         3.64225383e-21,   1.47719874e-16,   6.84168245e-15,\n",
       "         1.04895753e-08,   3.62281815e-33,   1.68084464e-01,\n",
       "         1.59986183e-09,   4.81750940e-19,   2.38720174e-51,\n",
       "         2.58208979e-01,   4.21089414e-29,   1.65307252e-08,\n",
       "         1.27312209e-05,   3.27828601e-03,   1.27366537e-09,\n",
       "         4.35304251e-66,   2.35778604e-14,   2.73279918e-08,\n",
       "         2.52898297e-15,   2.20102043e-12,   1.15162207e-06,\n",
       "         1.21291065e-02,   3.76919764e-06,   1.99177142e-22,\n",
       "         1.74757213e-06,   1.74450171e-19,   1.21015033e-25,\n",
       "         3.26492693e-05,   9.65285412e-13,   1.25693978e-07,\n",
       "         1.52987179e-57,   7.01858966e-16,   3.37580397e-13,\n",
       "         2.64295123e-14,   3.18027568e-37,   9.22579795e-23,\n",
       "         8.64181185e-11,   3.29209796e-44,   6.40889983e-13,\n",
       "         1.46094476e-08])"
      ]
     },
     "execution_count": 136,
     "metadata": {},
     "output_type": "execute_result"
    }
   ],
   "source": [
    "np.random.dirichlet([0.03] * 64)"
   ]
  },
  {
   "cell_type": "code",
   "execution_count": 145,
   "metadata": {},
   "outputs": [
    {
     "data": {
      "text/plain": [
       "array([  0.00000000e+00,   1.00000000e+00,   1.26765060e+30,\n",
       "         5.15377521e+47])"
      ]
     },
     "execution_count": 145,
     "metadata": {},
     "output_type": "execute_result"
    }
   ],
   "source": [
    "a = np.arange(4)\n",
    "np.power(a, 1/0.01)"
   ]
  },
  {
   "cell_type": "code",
   "execution_count": 156,
   "metadata": {},
   "outputs": [
    {
     "data": {
      "text/plain": [
       "Counter({1: 150})"
      ]
     },
     "execution_count": 156,
     "metadata": {},
     "output_type": "execute_result"
    }
   ],
   "source": [
    "from collections import Counter\n",
    "\n",
    "v = [0,1,0,0,0]\n",
    "nb_actions = len(v)\n",
    "probs = np.array(v) / np.sum(v)\n",
    "s = np.random.choice(range(nb_actions), 150, p=probs)\n",
    "Counter(s)"
   ]
  },
  {
   "cell_type": "code",
   "execution_count": 162,
   "metadata": {},
   "outputs": [
    {
     "data": {
      "text/plain": [
       "'20171021-232254.180040'"
      ]
     },
     "execution_count": 162,
     "metadata": {},
     "output_type": "execute_result"
    }
   ],
   "source": [
    "from datetime import datetime \n",
    "datetime.now().strftime(\"%Y%m%d-%H%M%S.%f\")"
   ]
  },
  {
   "cell_type": "code",
   "execution_count": 163,
   "metadata": {},
   "outputs": [
    {
     "data": {
      "text/plain": [
       "b'\\xd0\\xca\\x82\\xea\\xa1\\xb17m\\xb9\\x8c\\x07|B\\x12\\x96sx`+\\x85x\\xc2\\x92o\\xb3\\x14g\\x81Dh[v'"
      ]
     },
     "execution_count": 163,
     "metadata": {},
     "output_type": "execute_result"
    }
   ],
   "source": [
    "import hashlib\n",
    "\n",
    "m = hashlib.sha256()\n",
    "m.update(b\"jkljkljl\")\n",
    "m.digest()"
   ]
  },
  {
   "cell_type": "code",
   "execution_count": 164,
   "metadata": {},
   "outputs": [
    {
     "data": {
      "text/plain": [
       "'d0ca82eaa1b1376db98c077c4212967378602b8578c2926fb314678144685b76'"
      ]
     },
     "execution_count": 164,
     "metadata": {},
     "output_type": "execute_result"
    }
   ],
   "source": [
    "m.hexdigest()"
   ]
  },
  {
   "cell_type": "code",
   "execution_count": 174,
   "metadata": {},
   "outputs": [],
   "source": [
    "sh = (5,5)\n",
    "ln = np.product(sh)\n",
    "x1 = np.arange(ln).reshape(sh)\n",
    "x2 = np.arange(ln).reshape(sh) + 4\n",
    "x3 = np.arange(ln).reshape(sh) + 8\n",
    "x4 = np.arange(ln).reshape(sh) + 12\n",
    "x5 = np.arange(ln).reshape(sh) + 16\n",
    "x6 = np.arange(ln).reshape(sh) + 20\n",
    "xl = []\n",
    "xl.append([x1, x2])\n",
    "xl.append([x3, x4])\n",
    "xl.append([x5, x6])\n",
    "x = np.array(xl)\n"
   ]
  },
  {
   "cell_type": "code",
   "execution_count": 175,
   "metadata": {},
   "outputs": [
    {
     "data": {
      "text/plain": [
       "(3, 2, 5, 5)"
      ]
     },
     "execution_count": 175,
     "metadata": {},
     "output_type": "execute_result"
    }
   ],
   "source": [
    "x.shape"
   ]
  },
  {
   "cell_type": "code",
   "execution_count": 173,
   "metadata": {},
   "outputs": [
    {
     "data": {
      "text/plain": [
       "25"
      ]
     },
     "execution_count": 173,
     "metadata": {},
     "output_type": "execute_result"
    }
   ],
   "source": [
    "np.product((5,5))"
   ]
  },
  {
   "cell_type": "code",
   "execution_count": null,
   "metadata": {},
   "outputs": [],
   "source": []
  }
 ],
 "metadata": {
  "kernelspec": {
   "display_name": "Python 3",
   "language": "python",
   "name": "python3"
  },
  "language_info": {
   "codemirror_mode": {
    "name": "ipython",
    "version": 3
   },
   "file_extension": ".py",
   "mimetype": "text/x-python",
   "name": "python",
   "nbconvert_exporter": "python",
   "pygments_lexer": "ipython3",
   "version": "3.6.3"
  }
 },
 "nbformat": 4,
 "nbformat_minor": 2
}
